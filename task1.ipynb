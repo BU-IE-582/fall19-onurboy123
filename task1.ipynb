{
 "cells": [
  {
   "cell_type": "code",
   "execution_count": 12,
   "metadata": {},
   "outputs": [
    {
     "name": "stdout",
     "output_type": "stream",
     "text": [
      "[1] \" To which probability distribution do home and away goals fitting well? Does the distribution look like Poisson distribution?\"\n",
      "[1] \"Poisson, yes\"\n",
      "[1] \"Is this consistent with Poisson distribution claim?\"\n",
      "[1] \"Mostly, yes\"\n"
     ]
    },
    {
     "data": {
      "image/png": "[encoded data removed]",
      "text/plain": [
       "Plot with title \"hometeam_score\""
      ]
     },
     "metadata": {},
     "output_type": "display_data"
    }
   ],
   "source": [
    "rm(list=ls()) \n",
    "\n",
    "bets <- read.csv(file=\"c:/Users/Onur/Desktop/bets.csv\", header=TRUE, sep=\",\")\n",
    "stats <- read.csv(file=\"c:/Users/Onur/Desktop/stats.csv\", header=TRUE, sep=\",\")\n",
    "booking <- read.csv(file=\"c:/Users/Onur/Desktop/booking.csv\", header=TRUE, sep=\",\")\n",
    "matches <- read.csv(file=\"c:/Users/Onur/Desktop/matches.csv\", header=TRUE, sep=\",\")\n",
    "\n",
    "premier_league_matches = matches[matches$league_id == 148, ]\n",
    "finished_premier_league_matches = premier_league_matches[premier_league_matches$match_status == \"Finished\",]\n",
    "\n",
    "print(\" To which probability distribution do home and away goals fitting well? Does the distribution look like Poisson distribution?\" )\n",
    "print(\"Poisson, yes\")\n",
    "\n",
    "par(mfrow=c(1,3))\n",
    "hist(finished_premier_league_matches$match_hometeam_score,breaks = 30 , main = \"Home Score(goals)\",xlab = \"Home Goals\",ylab = \"Number of Games\",ylim=c(0,250))\n",
    "lambda_hometeam_score = mean(na.omit(finished_premier_league_matches[,c(\"match_hometeam_score\")]))\n",
    "lines(x= 0:8 ,length(finished_premier_league_matches[,c(\"match_hometeam_score\")]) * dpois( x = 0:8, lambda= lambda_hometeam_score),type=\"o\",col = \"red\")\n",
    "hist(finished_premier_league_matches$match_awayteam_score,breaks = 30 , main = \"Away Score(goals)\",xlab = \"Away Goals\",ylab = \"Number of Games\",ylim=c(0,250))\n",
    "lambda_awayteam_score = mean(na.omit(finished_premier_league_matches[,c(\"match_awayteam_score\")]))\n",
    "lines(x= 0:6 ,length(finished_premier_league_matches[,c(\"match_awayteam_score\")]) * dpois( x = 0:6, lambda= lambda_awayteam_score),type=\"o\",col = \"red\")\n",
    "hist(finished_premier_league_matches$match_hometeam_score-finished_premier_league_matches$match_awayteam_score,breaks = 30, main = \"hometeam_score\",xlab = \"Home Score(goals)– Away Score(goals)\",ylab = \"Number of Games\")\n",
    "\n",
    "print(\"Is this consistent with Poisson distribution claim?\")\n",
    "print(\"Mostly, yes\")\n"
   ]
  },
  {
   "cell_type": "code",
   "execution_count": null,
   "metadata": {},
   "outputs": [],
   "source": []
  },
  {
   "cell_type": "code",
   "execution_count": null,
   "metadata": {},
   "outputs": [],
   "source": []
  },
  {
   "cell_type": "code",
   "execution_count": null,
   "metadata": {},
   "outputs": [],
   "source": []
  }
 ],
 "metadata": {
  "kernelspec": {
   "display_name": "R",
   "language": "R",
   "name": "ir"
  },
  "language_info": {
   "codemirror_mode": "r",
   "file_extension": ".r",
   "mimetype": "text/x-r-source",
   "name": "R",
   "pygments_lexer": "r",
   "version": "3.6.1"
  }
 },
 "nbformat": 4,
 "nbformat_minor": 2
}
